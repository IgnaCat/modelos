{
 "cells": [
  {
   "cell_type": "code",
   "execution_count": 7,
   "metadata": {},
   "outputs": [
    {
     "name": "stdout",
     "output_type": "stream",
     "text": [
      "N=10000: 0.6352\n"
     ]
    }
   ],
   "source": [
    "## Ejercicio 2\n",
    "from random import random\n",
    "\n",
    "def ej2():\n",
    "    U = random()\n",
    "    V = random()\n",
    "    return (max(U,V) > 0.6)\n",
    "\n",
    "n=10000\n",
    "k=0\n",
    "for _ in range(n):\n",
    "    k += ej2()\n",
    "\n",
    "k /= n\n",
    "print(\"N=%d: %.4f\" % (n, k))"
   ]
  }
 ],
 "metadata": {
  "kernelspec": {
   "display_name": "Python 3",
   "language": "python",
   "name": "python3"
  },
  "language_info": {
   "codemirror_mode": {
    "name": "ipython",
    "version": 3
   },
   "file_extension": ".py",
   "mimetype": "text/x-python",
   "name": "python",
   "nbconvert_exporter": "python",
   "pygments_lexer": "ipython3",
   "version": "3.11.2"
  }
 },
 "nbformat": 4,
 "nbformat_minor": 2
}
