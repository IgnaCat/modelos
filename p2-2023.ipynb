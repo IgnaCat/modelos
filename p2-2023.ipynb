{
 "cells": [
  {
   "cell_type": "code",
   "execution_count": 1,
   "metadata": {},
   "outputs": [],
   "source": [
    "from random import random\n",
    "import numpy as np\n",
    "from math import exp, sqrt, factorial, log, ceil, comb\n",
    "import time\n",
    "\n",
    "def udiscrete(m, k):\n",
    "    u = random()\n",
    "\n",
    "    return int(u * (k - m + 1)) + m"
   ]
  },
  {
   "cell_type": "code",
   "execution_count": null,
   "metadata": {},
   "outputs": [],
   "source": [
    "## Ejercicio 1\n",
    "def generarX_TI():\n",
    "    U = random()\n",
    "    if   U < 0.36: return 3\n",
    "    elif U < 0.67: return 2\n",
    "    elif U < 0.91: return 0\n",
    "    else:          return 1\n",
    "\n",
    "# p: vector de probabilidades y valores posibles de X\n",
    "def generarX_TI2(p):\n",
    "    p = sorted(p, key=lambda x: x[1], reverse=True)\n",
    "    U = random()\n",
    "    i, F = 0, p[0][1]\n",
    "    while U >= F:\n",
    "        i +=1; F += p[i][1]\n",
    "    return p[i][0]\n",
    "\n",
    "probs = [(0, 0.24), (1, 0.09), (2, 0.31), (3, 0.36)]\n",
    "generarX_TI2(probs)"
   ]
  },
  {
   "cell_type": "code",
   "execution_count": 71,
   "metadata": {},
   "outputs": [
    {
     "name": "stdout",
     "output_type": "stream",
     "text": [
      "P(X <= 2) estimado 0.5003\n",
      "P(X <= 2) real 0.6759259259259259\n"
     ]
    }
   ],
   "source": [
    "## Ejercicio 2\n",
    "def ej_TI():\n",
    "    U = random()\n",
    "    if U <= 0.5: return 4*U\n",
    "    else:\n",
    "        np.cbrt(-2/(U-(3/4)))\n",
    "\n",
    "px = 0\n",
    "N = 10000\n",
    "for i in range(N):\n",
    "    if (x := ej_TI()) is not None:\n",
    "        if (x <= 3):\n",
    "            px += 1\n",
    "\n",
    "px = px/N\n",
    "print(\"P(X <= 2) estimado\", px)\n",
    "print(\"P(X <= 2) real\", -2/27 + 3/4)\n"
   ]
  }
 ],
 "metadata": {
  "kernelspec": {
   "display_name": "Python 3",
   "language": "python",
   "name": "python3"
  },
  "language_info": {
   "codemirror_mode": {
    "name": "ipython",
    "version": 3
   },
   "file_extension": ".py",
   "mimetype": "text/x-python",
   "name": "python",
   "nbconvert_exporter": "python",
   "pygments_lexer": "ipython3",
   "version": "3.11.2"
  }
 },
 "nbformat": 4,
 "nbformat_minor": 2
}
