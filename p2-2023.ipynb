{
 "cells": [
  {
   "cell_type": "code",
   "execution_count": 2,
   "metadata": {},
   "outputs": [],
   "source": [
    "from random import random\n",
    "import numpy as np\n",
    "from math import exp, sqrt, factorial, log, ceil, comb\n",
    "import time\n",
    "\n",
    "def udiscrete(m, k):\n",
    "    u = random()\n",
    "\n",
    "    return int(u * (k - m + 1)) + m"
   ]
  },
  {
   "cell_type": "code",
   "execution_count": null,
   "metadata": {},
   "outputs": [],
   "source": [
    "## Ejercicio 1\n",
    "def generarX_TI():\n",
    "    U = random()\n",
    "    if   U < 0.36: return 3\n",
    "    elif U < 0.67: return 2\n",
    "    elif U < 0.91: return 0\n",
    "    else:          return 1\n",
    "\n",
    "# p: vector de probabilidades y valores posibles de X\n",
    "def generarX_TI2(p):\n",
    "    p = sorted(p, key=lambda x: x[1], reverse=True)\n",
    "    U = random()\n",
    "    i, F = 0, p[0][1]\n",
    "    while U >= F:\n",
    "        i +=1; F += p[i][1]\n",
    "    return p[i][0]\n",
    "\n",
    "probs = [(0, 0.24), (1, 0.09), (2, 0.31), (3, 0.36)]\n",
    "generarX_TI2(probs)"
   ]
  },
  {
   "cell_type": "code",
   "execution_count": 6,
   "metadata": {},
   "outputs": [
    {
     "name": "stdout",
     "output_type": "stream",
     "text": [
      "P(X <= 3) estimado 0.6609\n",
      "P(X <= 3) real 0.6666666666666667\n"
     ]
    }
   ],
   "source": [
    "## Ejercicio 2\n",
    "def ej_TI():\n",
    "    U = random()\n",
    "    if U <= 0.5: return 4*U\n",
    "    else:\n",
    "        return -1/(U-1)\n",
    "\n",
    "px = 0\n",
    "N = 10000\n",
    "for _ in range(N):\n",
    "    if (ej_TI() <= 3):\n",
    "        px += 1\n",
    "\n",
    "px = px/N\n",
    "print(\"P(X <= 3) estimado\", px)\n",
    "print(\"P(X <= 3) real\", 1-(1/3))\n"
   ]
  },
  {
   "cell_type": "code",
   "execution_count": 22,
   "metadata": {},
   "outputs": [
    {
     "name": "stdout",
     "output_type": "stream",
     "text": [
      "3\n"
     ]
    }
   ],
   "source": [
    "## Ejercicio 3\n",
    "def geometrica(p):\n",
    "    U = random()\n",
    "    return int(log(1-U)/log(1-p))+1\n",
    "\n",
    "def py(n,p):\n",
    "    assert n >= 1\n",
    "    return p * (1-p)**(n-1)\n",
    "\n",
    "def prob_20():\n",
    "    px = 0\n",
    "    N = 10000\n",
    "    for _ in range(N):\n",
    "        if (geometrica(0.6) <= 20):\n",
    "            px += 1\n",
    "    return px/N\n",
    "\n",
    "\n",
    "def px1(n):\n",
    "    ## P(X = i) = P(Y=i | Y<= 20)\n",
    "    ## Y ~ Geom(0.6)\n",
    "    N = 10000\n",
    "    for _ in range(N):\n",
    "        x = geometrica(0.6)\n",
    "        if (x <= 20):\n",
    "            return py(x, 0.6)\n",
    "\n",
    "def px2(n):\n",
    "    if (n <= 20):\n",
    "        return py(n, 0.6)/prob_20()\n",
    "    else: return 0\n",
    "    \n",
    "\n",
    "def simular_AYR():\n",
    "    c = 1/prob_20()\n",
    "    while(1):\n",
    "        U = random()\n",
    "        Y = geometrica(0.6)\n",
    "        if (U < 1):\n",
    "            return Y\n",
    "        \n",
    "print(simular_AYR())"
   ]
  },
  {
   "cell_type": "code",
   "execution_count": 75,
   "metadata": {},
   "outputs": [
    {
     "name": "stdout",
     "output_type": "stream",
     "text": [
      "0.1015\n"
     ]
    }
   ],
   "source": [
    "## Ejercicio 4\n",
    "def exponencial(lamda):\n",
    "    U = 1-random()\n",
    "    return -log(U)/lamda\n",
    "\n",
    "def ejercio_4a():\n",
    "    N = 1000\n",
    "    suma = 0\n",
    "    for _ in range(N):\n",
    "        U = random()\n",
    "        if (U < 0.05):\n",
    "            suma += exponencial(1/800) \n",
    "\n",
    "    return suma\n",
    "\n",
    "\n",
    "def ejercicio_4b():\n",
    "    N = 10000\n",
    "    esperanza = 0\n",
    "    for _ in range(N):\n",
    "        if (ejercio_4a()>= 50000):\n",
    "            esperanza += 1\n",
    "\n",
    "    return esperanza/N\n",
    "\n",
    "print(ejercicio_4b())\n",
    "\n",
    "\n",
    "\n"
   ]
  }
 ],
 "metadata": {
  "kernelspec": {
   "display_name": "Python 3",
   "language": "python",
   "name": "python3"
  },
  "language_info": {
   "codemirror_mode": {
    "name": "ipython",
    "version": 3
   },
   "file_extension": ".py",
   "mimetype": "text/x-python",
   "name": "python",
   "nbconvert_exporter": "python",
   "pygments_lexer": "ipython3",
   "version": "3.11.2"
  }
 },
 "nbformat": 4,
 "nbformat_minor": 2
}
