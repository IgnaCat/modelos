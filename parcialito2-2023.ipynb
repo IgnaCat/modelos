{
 "cells": [
  {
   "cell_type": "code",
   "execution_count": 1,
   "metadata": {},
   "outputs": [],
   "source": [
    "from random import random\n",
    "import numpy as np\n",
    "from math import exp, sqrt, factorial, log, ceil, comb\n",
    "import time\n",
    "\n",
    "def udiscrete(m, k):\n",
    "    u = random()\n",
    "    return int(u * (k - m + 1)) + m"
   ]
  },
  {
   "cell_type": "code",
   "execution_count": 20,
   "metadata": {},
   "outputs": [
    {
     "name": "stdout",
     "output_type": "stream",
     "text": [
      "Esperanza 1b:  2.4687\n",
      "Esperanza 2b:  2.8101\n",
      "Esperanza 3:  2.44\n"
     ]
    }
   ],
   "source": [
    "## Ejercicio 1\n",
    "\n",
    "def ejercicio1a():\n",
    "    p_x = [0.05, 0.1, 0.02, 0.3, 0.35]\n",
    "    c = max(np.array(p_x)*10*(1/5))\n",
    "    while(1):\n",
    "        U = random()\n",
    "        Y = udiscrete(0,4)\n",
    "        if (U < p_x[Y] / ((1/5) * c)):\n",
    "            return Y\n",
    "        \n",
    "def ejercicio1b(N):\n",
    "    esperanza = 0\n",
    "    for _ in range(N):\n",
    "        esperanza += ejercicio1a()\n",
    "    return esperanza / N\n",
    "\n",
    "print(\"Esperanza 1b: \", ejercicio1b(10000))\n",
    "\n",
    "\n",
    "def ejercicio2a():\n",
    "    U = random()\n",
    "    if   (U < 0.35) : return 4\n",
    "    elif (U < 0.65) : return 3\n",
    "    elif (U < 0.85) : return 2\n",
    "    elif (U < 0.95) : return 1\n",
    "    else : return 0\n",
    "        \n",
    "def ejercicio2b(N):\n",
    "    esperanza = 0\n",
    "    for _ in range(N):\n",
    "        esperanza += ejercicio2a()\n",
    "    return esperanza / N\n",
    "\n",
    "print(\"Esperanza 2b: \", ejercicio2b(10000))\n",
    "\n",
    "\n",
    "def ejercicio3():\n",
    "    p_x = [0.05, 0.1, 0.02, 0.3, 0.35]\n",
    "    esperanza = 0\n",
    "    for i in range(1, 5):\n",
    "        esperanza += i * p_x[i]\n",
    "    return esperanza\n",
    "\n",
    "print(\"Esperanza 3: \", ejercicio3())"
   ]
  }
 ],
 "metadata": {
  "kernelspec": {
   "display_name": "Python 3",
   "language": "python",
   "name": "python3"
  },
  "language_info": {
   "codemirror_mode": {
    "name": "ipython",
    "version": 3
   },
   "file_extension": ".py",
   "mimetype": "text/x-python",
   "name": "python",
   "nbconvert_exporter": "python",
   "pygments_lexer": "ipython3",
   "version": "3.11.2"
  }
 },
 "nbformat": 4,
 "nbformat_minor": 2
}
