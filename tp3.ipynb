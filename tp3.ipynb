{
 "cells": [
  {
   "cell_type": "markdown",
   "metadata": {},
   "source": [
    "## Ejercicio 2"
   ]
  },
  {
   "cell_type": "code",
   "execution_count": 11,
   "metadata": {},
   "outputs": [
    {
     "name": "stdout",
     "output_type": "stream",
     "text": [
      "N=100: 0.6100\n",
      "N=1000: 0.6670\n",
      "N=10000: 0.6644\n",
      "N=100000: 0.6668\n",
      "N=1000000: 0.6666\n"
     ]
    }
   ],
   "source": [
    "from random import random\n",
    "\n",
    "def ej2():\n",
    "    U = random()\n",
    "    if U < 0.5:\n",
    "        W = random() + random()\n",
    "    else:\n",
    "        W = random() + random() + random()\n",
    "\n",
    "    return (W>=1)\n",
    "\n",
    "experimentos = [100, 1000, 10000, 100000, 1000000]\n",
    "for n in experimentos:\n",
    "    k = 0\n",
    "    for _ in range(n):\n",
    "        k += ej2()\n",
    "\n",
    "    k /= n\n",
    "    print(\"N=%d: %.4f\" % (n, k))"
   ]
  },
  {
   "cell_type": "markdown",
   "metadata": {},
   "source": [
    "## Ejercicio 4"
   ]
  },
  {
   "cell_type": "code",
   "execution_count": 15,
   "metadata": {},
   "outputs": [
    {
     "name": "stdout",
     "output_type": "stream",
     "text": [
      "4) a) La probabilidad de que el cliente espere menos de 4 minutos es : 0.652\n",
      "4) b) La probabilidad de que el cliente haya elegido la caja 1 dado que esperó mas de 4 minutos es 0.34770114942528735\n",
      "4) b) La probabilidad de que el cliente haya elegido la caja 2 dado que esperó mas de 4 minutos es 0.3218390804597701\n",
      "4) b) La probabilidad de que el cliente haya elegido la caja 3 dado que esperó mas de 4 minutos es 0.33045977011494254\n"
     ]
    }
   ],
   "source": [
    "from random import random, expovariate\n",
    "\n",
    "def seleccionar_caja():\n",
    "    # Elegir una caja basado en un número aleatorio entre 0 y 1\n",
    "    # y en las probabilidades que tiene cada caja de ser elegida\n",
    "    caja = random()\n",
    "    if caja <= 0.4:\n",
    "        return 1\n",
    "    elif caja <= 0.72:\n",
    "        return 2\n",
    "    else:\n",
    "        return 3\n",
    "\n",
    "if __name__ == '__main__':\n",
    "    Nsim = 1000 # cantidad de iteraciones\n",
    "    lamda = [1/3, 1/4, 1/5] # lamda de cada caja\n",
    "    espera_mayor_4 = 0\n",
    "    espera_menor_4 = 0\n",
    "    n_uso_caja = [0,0,0]\n",
    "    for _ in range(Nsim):\n",
    "        caja = seleccionar_caja()\n",
    "        espera = expovariate(lamda[caja - 1])\n",
    "        espera_mayor_4 += (espera > 4)\n",
    "        espera_menor_4 += (espera <= 4)\n",
    "        n_uso_caja[caja - 1] += (espera > 4)\n",
    "    print('4) a) La probabilidad de que el cliente espere menos de 4 minutos es :', espera_menor_4/Nsim)\n",
    "    for i in range(3):\n",
    "        print('4) b) La probabilidad de que el cliente haya elegido la caja', i+1,\n",
    "              'dado que esperó mas de 4 minutos es', n_uso_caja[i]/espera_mayor_4)"
   ]
  },
  {
   "cell_type": "markdown",
   "metadata": {},
   "source": [
    "## Ejercicio 5"
   ]
  },
  {
   "cell_type": "code",
   "execution_count": 18,
   "metadata": {},
   "outputs": [],
   "source": [
    "import math\n",
    "import numpy as np\n",
    "from random import random\n",
    "from random import expovariate\n",
    "\n",
    "# Integral Monte Carlo en el intervalo (0,1)\n",
    "def MonteCarlo_01(fun, Nsim):\n",
    "    Integral = 0\n",
    "    for _ in range(Nsim):\n",
    "        Integral += fun(random())\n",
    "    return Integral/Nsim\n",
    "\n",
    "# Integral Monte Carlo en el intervalo (a,b)\n",
    "def MonteCarlo_ab(fun, a, b, Nsim):\n",
    "    Integral = 0\n",
    "    for _ in range(Nsim):\n",
    "        Integral += fun(a + (b-a)*random())\n",
    "    return Integral*(b-a)/Nsim \n",
    "\n",
    "# Integral Monte Carlo en el intervalo (0,inf)\n",
    "def MonteCarlo_inf(fun, Nsim):\n",
    "    Integral=0\n",
    "    for _ in range(Nsim):\n",
    "        u=random()\n",
    "        Integral+= fun(1/u-1)/(u**2)\n",
    "    return Integral/Nsim"
   ]
  },
  {
   "cell_type": "code",
   "execution_count": 19,
   "metadata": {},
   "outputs": [
    {
     "name": "stdout",
     "output_type": "stream",
     "text": [
      "Integral para Nsim = 100\n",
      "0.614288433969489\n",
      "-------------------\n",
      "Integral para Nsim = 1000\n",
      "0.5877074598618234\n",
      "-------------------\n",
      "Integral para Nsim = 10000\n",
      "0.5925572892638505\n",
      "-------------------\n",
      "Integral para Nsim = 100000\n",
      "0.5899553478091155\n",
      "-------------------\n",
      "Integral para Nsim = 1000000\n",
      "0.5886940197127773\n",
      "-------------------\n",
      "El valor real aproximado es 3pi/16 ~ 0.5890486225480862\n"
     ]
    }
   ],
   "source": [
    "## a\n",
    "def g_a(u):\n",
    "  return (1 - u**2)**(3/2)\n",
    "\n",
    "N = [100,1000,10000,100000,1000000]\n",
    "for i in range(len(N)):\n",
    "  print('Integral para Nsim =', N[i])\n",
    "  print(MonteCarlo_01(g_a,N[i]))\n",
    "  print('-------------------')\n",
    "print('El valor real aproximado es 3pi/16 ~',3*np.pi/16)"
   ]
  },
  {
   "cell_type": "code",
   "execution_count": 20,
   "metadata": {},
   "outputs": [
    {
     "name": "stdout",
     "output_type": "stream",
     "text": [
      "Integral para Nsim = 100\n",
      "0.5032879792577581\n",
      "-------------------\n",
      "Integral para Nsim = 1000\n",
      "0.4932499490852468\n",
      "-------------------\n",
      "Integral para Nsim = 10000\n",
      "0.48968059259884966\n",
      "-------------------\n",
      "Integral para Nsim = 100000\n",
      "0.49039885181251164\n",
      "-------------------\n",
      "Integral para Nsim = 1000000\n",
      "0.490394938317939\n",
      "-------------------\n",
      "El resultado exacto es ln(8/3)/2 0.4904146265058631\n"
     ]
    }
   ],
   "source": [
    "## b\n",
    "def g_b(u):\n",
    "  return (u/((u**2)-1))\n",
    "\n",
    "N = [100,1000,10000,100000,1000000]\n",
    "for i in range(len(N)):\n",
    "  print('Integral para Nsim =', N[i])\n",
    "  print(MonteCarlo_ab(g_b,2,3,N[i]))\n",
    "  print('-------------------')\n",
    "print('El resultado exacto es ln(8/3)/2',np.log(8/3)/2)"
   ]
  },
  {
   "cell_type": "code",
   "execution_count": 21,
   "metadata": {},
   "outputs": [
    {
     "name": "stdout",
     "output_type": "stream",
     "text": [
      "Integral para Nsim = 100\n",
      "0.5374394226941949\n",
      "-------------------\n",
      "Integral para Nsim = 1000\n",
      "0.49767287822701284\n",
      "-------------------\n",
      "Integral para Nsim = 10000\n",
      "0.4952603196540165\n",
      "-------------------\n",
      "Integral para Nsim = 100000\n",
      "0.5005281289155527\n",
      "-------------------\n",
      "Integral para Nsim = 1000000\n",
      "0.49969050396471093\n",
      "-------------------\n",
      "El valor exacto es 1/2\n"
     ]
    }
   ],
   "source": [
    "## c\n",
    "def g_c(u):\n",
    "  return u/((u**2 + 1)**(2))\n",
    "     \n",
    "\n",
    "N = [100,1000,10000,100000,1000000]\n",
    "for i in range(len(N)):\n",
    "  print('Integral para Nsim =',N[i])\n",
    "  print(MonteCarlo_inf(g_c,N[i]))\n",
    "  print('-------------------')\n",
    "print('El valor exacto es 1/2')"
   ]
  },
  {
   "cell_type": "code",
   "execution_count": null,
   "metadata": {},
   "outputs": [],
   "source": [
    "## d\n",
    "def g_d(u):\n",
    "  return 2*np.exp(-u**2)\n",
    "     \n",
    "\n",
    "N = [100,1000,10000,100000,1000000]\n",
    "for i in range(len(N)):\n",
    "  print('Integral para Nsim =',N[i])\n",
    "  print(MonteCarlo_inf(g_d,N[i]))\n",
    "  print('-------------------')\n",
    "print('El valor exacto es sqrt(\\pi) ~',math.sqrt(np.pi))"
   ]
  },
  {
   "cell_type": "markdown",
   "metadata": {},
   "source": [
    "## Integrales Multiples"
   ]
  },
  {
   "cell_type": "code",
   "execution_count": null,
   "metadata": {},
   "outputs": [],
   "source": [
    "# Integrales múltiples, 2 variables\n",
    "from random import random\n",
    "# Integral Monte Carlo en el intervalo (0,1)x(0,1)\n",
    "def MonteCarlo_01_2(fun, Nsim):\n",
    "    Integral = 0\n",
    "    for _ in range(Nsim):\n",
    "        Integral += fun(random(), random())\n",
    "    return Integral/Nsim\n",
    "\n",
    "# Integral Monte Carlo en el intervalo (a,b)x(c,d)\n",
    "def MonteCarlo_ab_2(fun,a,b,c,d, Nsim):\n",
    "    Integral = 0\n",
    "    for _ in range(Nsim):\n",
    "        Integral += fun(a + (b-a)*random(), c + (d-c)*random())\n",
    "    return Integral*(b-a)*(d-c)/Nsim\n",
    "\n",
    "# Integral Monte Carlo en el intervalo (0,inf)x(0,inf)\n",
    "def MonteCarlo_inf_2(g, Nsim):\n",
    "    Integral=0\n",
    "    for _ in range(Nsim):\n",
    "        u1=random()\n",
    "        u2=random()\n",
    "        Integral+= g(1/u1-1, 1/u2-1)/((u1**2)*(u2**2))\n",
    "    return Integral/Nsim"
   ]
  },
  {
   "cell_type": "code",
   "execution_count": null,
   "metadata": {},
   "outputs": [],
   "source": [
    "## e\n",
    "def g_e(u,v):\n",
    "  return np.exp((u + v)**2)\n",
    "     \n",
    "\n",
    "N = [100,1000,10000,100000,1000000]\n",
    "for i in range(len(N)):\n",
    "  print('Integral para Nsim =',N[i])\n",
    "  print(MonteCarlo_01_2(g_e,N[i]))\n",
    "  print('-------------------')\n",
    "print('El valor exacto es 4.89916 por wolfram alpha')"
   ]
  },
  {
   "cell_type": "code",
   "execution_count": null,
   "metadata": {},
   "outputs": [],
   "source": [
    "## f\n",
    "def I(x, y):\n",
    "    if y < x:\n",
    "        return 1\n",
    "    else:\n",
    "        return 0\n",
    "\n",
    "def g_f(x, y):\n",
    "    return np.exp(-(x+y))*I(x, y)\n",
    "     \n",
    "\n",
    "N = [100,1000,10000,100000,1000000]\n",
    "for i in range(len(N)):\n",
    "  print('Integral para Nsim =',N[i])\n",
    "  print(MonteCarlo_inf_2(g_f,N[i]))\n",
    "  print('-------------------')\n",
    "print('El valor exacto es 1/2')"
   ]
  }
 ],
 "metadata": {
  "kernelspec": {
   "display_name": "Python 3",
   "language": "python",
   "name": "python3"
  },
  "language_info": {
   "codemirror_mode": {
    "name": "ipython",
    "version": 3
   },
   "file_extension": ".py",
   "mimetype": "text/x-python",
   "name": "python",
   "nbconvert_exporter": "python",
   "pygments_lexer": "ipython3",
   "version": "3.11.2"
  }
 },
 "nbformat": 4,
 "nbformat_minor": 2
}
