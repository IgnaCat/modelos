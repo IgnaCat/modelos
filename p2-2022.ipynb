{
 "cells": [
  {
   "cell_type": "code",
   "execution_count": 13,
   "metadata": {},
   "outputs": [],
   "source": [
    "from random import random\n",
    "import numpy as np\n",
    "from math import exp, sqrt, factorial, log, ceil, comb\n",
    "import time\n",
    "\n",
    "def udiscrete(m, k):\n",
    "    u = random()\n",
    "    return int(u * (k - m + 1)) + m\n",
    "\n",
    "def uniforme(m, k):\n",
    "    u = random()\n",
    "    return (u * (k - m + 1)) + m\n"
   ]
  },
  {
   "cell_type": "code",
   "execution_count": 3,
   "metadata": {},
   "outputs": [],
   "source": [
    "## Ejercicio 1\n",
    "distribucion_urna = np.array([0.32, 0.21, 0.33, 0.14]) * 100\n",
    "distribucion_urna = np.array(distribucion_urna, dtype = int)\n",
    "urna = []\n",
    "for i in range(0, 3):\n",
    "    for j in range(distribucion_urna[i]):\n",
    "        urna.append(i)\n",
    "\n",
    "def simular_URNA():\n",
    "    U = udiscrete(0, 99)\n",
    "    return urna[U]"
   ]
  },
  {
   "cell_type": "code",
   "execution_count": 9,
   "metadata": {},
   "outputs": [
    {
     "name": "stdout",
     "output_type": "stream",
     "text": [
      "P(X <= 1) estimado 0.9069\n",
      "P(X <= 1) real 0.9097764778422582\n"
     ]
    }
   ],
   "source": [
    "## Ejercicio 2\n",
    "def ej2_TI():\n",
    "    U = random()\n",
    "    if (U <= (1/3)): \n",
    "        return log(3*U)\n",
    "    else:\n",
    "        return log((-3/2)*(U-1))*(-(1/2))\n",
    "\n",
    "px = 0\n",
    "N = 10000\n",
    "for _ in range(N):\n",
    "    if (ej2_TI() <= 1):\n",
    "        px += 1\n",
    "\n",
    "px = px/N\n",
    "print(\"P(X <= 1) estimado\", px)\n",
    "print(\"P(X <= 1) real\", 1- (2/3) * exp(-2))"
   ]
  },
  {
   "cell_type": "code",
   "execution_count": 14,
   "metadata": {},
   "outputs": [
    {
     "name": "stdout",
     "output_type": "stream",
     "text": [
      "P(X > 0) estimado 0.4948\n"
     ]
    }
   ],
   "source": [
    "## Ejercicio 3\n",
    "def ej3_AYR():\n",
    "    while True:\n",
    "        X = uniforme(-1, 1)\n",
    "        U = random()\n",
    "        if U < (1 - X**2):\n",
    "            return X\n",
    "\n",
    "def ej_3(N):\n",
    "    fx = 0\n",
    "    for _ in range(N):\n",
    "        if (ej3_AYR() > 0):\n",
    "            fx += 1\n",
    "    return fx/N\n",
    "\n",
    "print(\"P(X > 0) estimado\", ej_3(10000))"
   ]
  },
  {
   "cell_type": "code",
   "execution_count": 49,
   "metadata": {},
   "outputs": [
    {
     "name": "stdout",
     "output_type": "stream",
     "text": [
      "P(X = 4) estimado simulación 0.1189\n",
      "P(X = 4) estimado AYR        0.0741\n",
      "P(X = 4) real                0.12345679012345678\n"
     ]
    }
   ],
   "source": [
    "## Ejercicio 4\n",
    "def Bernoulli(p):\n",
    "    U=random()\n",
    "    if U < p: return 1\n",
    "    else: return 0\n",
    "\n",
    "def geometrica(p):\n",
    "    U = random()\n",
    "    return int(log(1-U)/log(1-p))+1\n",
    "\n",
    "def experimento_4():\n",
    "    p = 1/3\n",
    "    tiradas = 1\n",
    "    ultima_tirada = Bernoulli(p)\n",
    "    while True:\n",
    "        x = Bernoulli(p)\n",
    "        tiradas += 1\n",
    "        if (ultima_tirada == x):\n",
    "            ultima_tirada = x\n",
    "        else:\n",
    "            break\n",
    "    return tiradas\n",
    "\n",
    "def ejercicio_4a(N, generador):\n",
    "    exitos = 0\n",
    "    for _ in range(N):\n",
    "        if (generador() == 4):\n",
    "            exitos += 1\n",
    "    return exitos/N\n",
    "\n",
    "def ej4_AYR():\n",
    "    while True:\n",
    "        Y = geometrica(1/3)\n",
    "        U = random()\n",
    "        if U < (1/2 + 1/(2**(Y-1))):\n",
    "            return Y\n",
    "\n",
    "print(\"P(X = 4) estimado simulación\", ejercicio_4a(10000, lambda: experimento_4()))\n",
    "print(\"P(X = 4) estimado AYR       \", ejercicio_4a(10000, lambda: ej4_AYR()))\n",
    "print(\"P(X = 4) real               \", 10/(3**4))"
   ]
  }
 ],
 "metadata": {
  "kernelspec": {
   "display_name": "Python 3",
   "language": "python",
   "name": "python3"
  },
  "language_info": {
   "codemirror_mode": {
    "name": "ipython",
    "version": 3
   },
   "file_extension": ".py",
   "mimetype": "text/x-python",
   "name": "python",
   "nbconvert_exporter": "python",
   "pygments_lexer": "ipython3",
   "version": "3.11.2"
  }
 },
 "nbformat": 4,
 "nbformat_minor": 2
}
