{
 "cells": [
  {
   "cell_type": "code",
   "execution_count": 3,
   "metadata": {},
   "outputs": [],
   "source": [
    "import numpy as np\n",
    "import math\n",
    "from random import random\n",
    "\n",
    "# Integral Monte Carlo en el intervalo (0,1)\n",
    "def MonteCarlo_01(fun, Nsim):\n",
    "    Integral = 0\n",
    "    for _ in range(Nsim):\n",
    "        Integral += fun(random())\n",
    "    return Integral/Nsim\n",
    "\n",
    "# Integral Monte Carlo en el intervalo (a,b)\n",
    "def MonteCarlo_ab(fun, a, b, Nsim):\n",
    "    Integral = 0\n",
    "    for _ in range(Nsim):\n",
    "        Integral += fun(a + (b-a)*random())\n",
    "    return Integral*(b-a)/Nsim \n",
    "\n",
    "# Integral Monte Carlo en el intervalo (0,inf)\n",
    "def MonteCarlo_inf(fun, Nsim):\n",
    "    Integral=0\n",
    "    for _ in range(Nsim):\n",
    "        u=random()\n",
    "        Integral+= fun(1/u-1)/(u**2)\n",
    "    return Integral/Nsim"
   ]
  },
  {
   "cell_type": "code",
   "execution_count": 10,
   "metadata": {},
   "outputs": [
    {
     "name": "stdout",
     "output_type": "stream",
     "text": [
      "Integral para Nsim = 1000\n",
      "155200905.22147852\n",
      "-------------------\n",
      "Integral para Nsim = 10000\n",
      "-198835906.41255417\n",
      "-------------------\n",
      "Integral para Nsim = 100000\n",
      "-1.1205280408243906e+16\n",
      "-------------------\n"
     ]
    }
   ],
   "source": [
    "## 3\n",
    "def g_3(x):\n",
    "  return 1 / ((x**2) * math.log(x+1))\n",
    "     \n",
    "def monte_carlo(n):\n",
    "    print('Integral para Nsim =',n)\n",
    "    print(MonteCarlo_inf(g_3,n)-MonteCarlo_01(g_3,n))\n",
    "    print('-------------------')\n",
    "\n",
    "N = [1000,10000,100000]\n",
    "for i in range(len(N)):\n",
    "  monte_carlo(N[i])"
   ]
  }
 ],
 "metadata": {
  "kernelspec": {
   "display_name": "Python 3",
   "language": "python",
   "name": "python3"
  },
  "language_info": {
   "codemirror_mode": {
    "name": "ipython",
    "version": 3
   },
   "file_extension": ".py",
   "mimetype": "text/x-python",
   "name": "python",
   "nbconvert_exporter": "python",
   "pygments_lexer": "ipython3",
   "version": "3.11.5"
  }
 },
 "nbformat": 4,
 "nbformat_minor": 2
}
