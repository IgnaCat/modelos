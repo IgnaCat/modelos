{
 "cells": [
  {
   "cell_type": "code",
   "execution_count": 1,
   "metadata": {},
   "outputs": [
    {
     "name": "stdout",
     "output_type": "stream",
     "text": [
      "A- N=10000: 0.4375\n"
     ]
    }
   ],
   "source": [
    "from random import random\n",
    "\n",
    "def ej2():\n",
    "    U = random()\n",
    "    V = random()\n",
    "    if (U > 0.5 and V < 0.5):\n",
    "        return 0\n",
    "    elif (U < 0.5 and V > 0.5):\n",
    "        return 1\n",
    "    else: \n",
    "        return 2\n",
    "\n",
    "n=10000\n",
    "k=0\n",
    "for _ in range(n):\n",
    "    k += (((ej2() == 0) or (ej2() == 0)) == 1)\n",
    "\n",
    "k /= n\n",
    "print(\"A- N=%d: %.4f\" % (n, k))\n"
   ]
  }
 ],
 "metadata": {
  "kernelspec": {
   "display_name": "Python 3",
   "language": "python",
   "name": "python3"
  },
  "language_info": {
   "codemirror_mode": {
    "name": "ipython",
    "version": 3
   },
   "file_extension": ".py",
   "mimetype": "text/x-python",
   "name": "python",
   "nbconvert_exporter": "python",
   "pygments_lexer": "ipython3",
   "version": "0.0.0"
  }
 },
 "nbformat": 4,
 "nbformat_minor": 2
}
