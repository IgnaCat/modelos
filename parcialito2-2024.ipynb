{
 "cells": [
  {
   "cell_type": "code",
   "execution_count": 1,
   "metadata": {},
   "outputs": [],
   "source": [
    "from random import random\n",
    "import numpy as np\n",
    "from math import exp, sqrt, factorial, log, ceil, comb\n",
    "import time\n",
    "\n",
    "def udiscrete(m, k):\n",
    "    u = random()\n",
    "    return int(u * (k - m + 1)) + m"
   ]
  },
  {
   "cell_type": "code",
   "execution_count": 36,
   "metadata": {},
   "outputs": [
    {
     "name": "stdout",
     "output_type": "stream",
     "text": [
      "Esperanza 2b:  7.84061\n"
     ]
    }
   ],
   "source": [
    "## Ejercicio 1\n",
    "def generarX():\n",
    "    U=random()\n",
    "    if U<0.22:\n",
    "       return 1\n",
    "    elif U<0.55:\n",
    "       return 2\n",
    "    elif U<0.72:\n",
    "       return 3\n",
    "    elif U<0.9999:\n",
    "       return 4\n",
    "    else:\n",
    "       return 100\n",
    "    \n",
    "def ejercicio1b(N):\n",
    "    esperanza = 0\n",
    "    for _ in range(N):\n",
    "        esperanza += generarX()**2\n",
    "    return esperanza / N\n",
    "\n",
    "print(\"Esperanza 2b: \", ejercicio1b(100000))"
   ]
  }
 ],
 "metadata": {
  "kernelspec": {
   "display_name": "Python 3",
   "language": "python",
   "name": "python3"
  },
  "language_info": {
   "codemirror_mode": {
    "name": "ipython",
    "version": 3
   },
   "file_extension": ".py",
   "mimetype": "text/x-python",
   "name": "python",
   "nbconvert_exporter": "python",
   "pygments_lexer": "ipython3",
   "version": "3.11.5"
  }
 },
 "nbformat": 4,
 "nbformat_minor": 2
}
